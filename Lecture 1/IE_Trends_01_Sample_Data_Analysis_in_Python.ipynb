{
  "nbformat": 4,
  "nbformat_minor": 0,
  "metadata": {
    "colab": {
      "name": "IE Trends 01 - Sample Data Analysis in Python",
      "provenance": [],
      "authorship_tag": "ABX9TyOGGIXCjeZdECu9ainhhb0v",
      "include_colab_link": true
    },
    "kernelspec": {
      "name": "python3",
      "display_name": "Python 3"
    },
    "language_info": {
      "name": "python"
    }
  },
  "cells": [
    {
      "cell_type": "markdown",
      "metadata": {
        "id": "view-in-github",
        "colab_type": "text"
      },
      "source": [
        "<a href=\"https://colab.research.google.com/github/dyjdlopez/ie-trends-data-analytics/blob/main/Lecture%201/IE_Trends_01_Sample_Data_Analysis_in_Python.ipynb\" target=\"_parent\"><img src=\"https://colab.research.google.com/assets/colab-badge.svg\" alt=\"Open In Colab\"/></a>"
      ]
    },
    {
      "cell_type": "markdown",
      "metadata": {
        "id": "S4pu9pAPgBXr"
      },
      "source": [
        "# Basic Data Analysis\n",
        "©D.Lopez 2021\n",
        "\n",
        "This notebook is a sample of a data analysis program for performing basic data analysis with dummy sales data. This is a Jupyter Notebook for the first lecture of IE trends on Data Analytics. Don't worry if you don't understand the codes and logic yet since we'll be reserving the discussion for that on later lectures. This is just for you to get your feet wet with some of the processes that can be done in analyzing data. If you want to go through the codes or do an advance study that would be great! But for now let's just go over the fundamental concepts of data analytics.\n"
      ]
    },
    {
      "cell_type": "markdown",
      "metadata": {
        "id": "IZHkvOk7UVtl"
      },
      "source": [
        "## Data\n",
        "First up is data. Just like in the discussion, data analytics starts with the creation, acquisition, or collection of data. In this case we already gathered it and we can now perform some exploration. "
      ]
    },
    {
      "cell_type": "code",
      "metadata": {
        "id": "tNSlzNvhb6YE"
      },
      "source": [
        "import pandas as pd"
      ],
      "execution_count": null,
      "outputs": []
    },
    {
      "cell_type": "code",
      "metadata": {
        "id": "Jkn1n_3CcaYV"
      },
      "source": [
        "bk_data = pd.read_excel('bk.xlsx', index_col='week')"
      ],
      "execution_count": null,
      "outputs": []
    },
    {
      "cell_type": "markdown",
      "metadata": {
        "id": "M_cKuN9qdmCv"
      },
      "source": [
        "## Information\n",
        "\n",
        "Data once stored in a coherent way considering rules and relationships they can now be called information. In this case, we collated the data in an Excel Spreadsheet."
      ]
    },
    {
      "cell_type": "code",
      "metadata": {
        "colab": {
          "base_uri": "https://localhost:8080/",
          "height": 198
        },
        "id": "-6mgV2JrdiSX",
        "outputId": "6cca3071-cbce-4b85-fa5d-929cf372909e"
      },
      "source": [
        "bk_data"
      ],
      "execution_count": null,
      "outputs": [
        {
          "output_type": "execute_result",
          "data": {
            "text/html": [
              "<div>\n",
              "<style scoped>\n",
              "    .dataframe tbody tr th:only-of-type {\n",
              "        vertical-align: middle;\n",
              "    }\n",
              "\n",
              "    .dataframe tbody tr th {\n",
              "        vertical-align: top;\n",
              "    }\n",
              "\n",
              "    .dataframe thead th {\n",
              "        text-align: right;\n",
              "    }\n",
              "</style>\n",
              "<table border=\"1\" class=\"dataframe\">\n",
              "  <thead>\n",
              "    <tr style=\"text-align: right;\">\n",
              "      <th></th>\n",
              "      <th>Plant-based burger</th>\n",
              "      <th>X-tra Long Chicken</th>\n",
              "      <th>Whopper®</th>\n",
              "      <th>Quarater Pound King™</th>\n",
              "    </tr>\n",
              "    <tr>\n",
              "      <th>week</th>\n",
              "      <th></th>\n",
              "      <th></th>\n",
              "      <th></th>\n",
              "      <th></th>\n",
              "    </tr>\n",
              "  </thead>\n",
              "  <tbody>\n",
              "    <tr>\n",
              "      <th>week 1</th>\n",
              "      <td>587</td>\n",
              "      <td>1321</td>\n",
              "      <td>1432</td>\n",
              "      <td>897</td>\n",
              "    </tr>\n",
              "    <tr>\n",
              "      <th>week 2</th>\n",
              "      <td>487</td>\n",
              "      <td>1869</td>\n",
              "      <td>1653</td>\n",
              "      <td>963</td>\n",
              "    </tr>\n",
              "    <tr>\n",
              "      <th>week  3</th>\n",
              "      <td>2540</td>\n",
              "      <td>3654</td>\n",
              "      <td>210</td>\n",
              "      <td>31</td>\n",
              "    </tr>\n",
              "    <tr>\n",
              "      <th>week  4</th>\n",
              "      <td>702</td>\n",
              "      <td>1587</td>\n",
              "      <td>3697</td>\n",
              "      <td>4570</td>\n",
              "    </tr>\n",
              "  </tbody>\n",
              "</table>\n",
              "</div>"
            ],
            "text/plain": [
              "         Plant-based burger  ...  Quarater Pound King™\n",
              "week                         ...                      \n",
              "week 1                  587  ...                   897\n",
              "week 2                  487  ...                   963\n",
              "week  3                2540  ...                    31\n",
              "week  4                 702  ...                  4570\n",
              "\n",
              "[4 rows x 4 columns]"
            ]
          },
          "metadata": {
            "tags": []
          },
          "execution_count": 86
        }
      ]
    },
    {
      "cell_type": "markdown",
      "metadata": {
        "id": "Ti9WR6g4d1Yv"
      },
      "source": [
        "## Knowledge\n",
        "\n",
        "Knowledge can be retrieved from the insights we get from the information at hand. Here we try to use several methods to gain insight from the information. "
      ]
    },
    {
      "cell_type": "markdown",
      "metadata": {
        "id": "nCYrTYcTlHB_"
      },
      "source": [
        "### Statisitcal Analysis"
      ]
    },
    {
      "cell_type": "code",
      "metadata": {
        "colab": {
          "base_uri": "https://localhost:8080/",
          "height": 288
        },
        "id": "7bISGyyRdpkf",
        "outputId": "aa643414-5425-40ed-87d2-32deb5f766f0"
      },
      "source": [
        "bk_data.describe()"
      ],
      "execution_count": null,
      "outputs": [
        {
          "output_type": "execute_result",
          "data": {
            "text/html": [
              "<div>\n",
              "<style scoped>\n",
              "    .dataframe tbody tr th:only-of-type {\n",
              "        vertical-align: middle;\n",
              "    }\n",
              "\n",
              "    .dataframe tbody tr th {\n",
              "        vertical-align: top;\n",
              "    }\n",
              "\n",
              "    .dataframe thead th {\n",
              "        text-align: right;\n",
              "    }\n",
              "</style>\n",
              "<table border=\"1\" class=\"dataframe\">\n",
              "  <thead>\n",
              "    <tr style=\"text-align: right;\">\n",
              "      <th></th>\n",
              "      <th>Plant-based burger</th>\n",
              "      <th>X-tra Long Chicken</th>\n",
              "      <th>Whopper®</th>\n",
              "      <th>Quarater Pound King™</th>\n",
              "    </tr>\n",
              "  </thead>\n",
              "  <tbody>\n",
              "    <tr>\n",
              "      <th>count</th>\n",
              "      <td>4.000000</td>\n",
              "      <td>4.000000</td>\n",
              "      <td>4.000000</td>\n",
              "      <td>4.000000</td>\n",
              "    </tr>\n",
              "    <tr>\n",
              "      <th>mean</th>\n",
              "      <td>1079.000000</td>\n",
              "      <td>2107.750000</td>\n",
              "      <td>1748.000000</td>\n",
              "      <td>1615.250000</td>\n",
              "    </tr>\n",
              "    <tr>\n",
              "      <th>std</th>\n",
              "      <td>977.953305</td>\n",
              "      <td>1054.837547</td>\n",
              "      <td>1446.020516</td>\n",
              "      <td>2015.085503</td>\n",
              "    </tr>\n",
              "    <tr>\n",
              "      <th>min</th>\n",
              "      <td>487.000000</td>\n",
              "      <td>1321.000000</td>\n",
              "      <td>210.000000</td>\n",
              "      <td>31.000000</td>\n",
              "    </tr>\n",
              "    <tr>\n",
              "      <th>25%</th>\n",
              "      <td>562.000000</td>\n",
              "      <td>1520.500000</td>\n",
              "      <td>1126.500000</td>\n",
              "      <td>680.500000</td>\n",
              "    </tr>\n",
              "    <tr>\n",
              "      <th>50%</th>\n",
              "      <td>644.500000</td>\n",
              "      <td>1728.000000</td>\n",
              "      <td>1542.500000</td>\n",
              "      <td>930.000000</td>\n",
              "    </tr>\n",
              "    <tr>\n",
              "      <th>75%</th>\n",
              "      <td>1161.500000</td>\n",
              "      <td>2315.250000</td>\n",
              "      <td>2164.000000</td>\n",
              "      <td>1864.750000</td>\n",
              "    </tr>\n",
              "    <tr>\n",
              "      <th>max</th>\n",
              "      <td>2540.000000</td>\n",
              "      <td>3654.000000</td>\n",
              "      <td>3697.000000</td>\n",
              "      <td>4570.000000</td>\n",
              "    </tr>\n",
              "  </tbody>\n",
              "</table>\n",
              "</div>"
            ],
            "text/plain": [
              "       Plant-based burger  ...  Quarater Pound King™\n",
              "count            4.000000  ...              4.000000\n",
              "mean          1079.000000  ...           1615.250000\n",
              "std            977.953305  ...           2015.085503\n",
              "min            487.000000  ...             31.000000\n",
              "25%            562.000000  ...            680.500000\n",
              "50%            644.500000  ...            930.000000\n",
              "75%           1161.500000  ...           1864.750000\n",
              "max           2540.000000  ...           4570.000000\n",
              "\n",
              "[8 rows x 4 columns]"
            ]
          },
          "metadata": {
            "tags": []
          },
          "execution_count": 87
        }
      ]
    },
    {
      "cell_type": "code",
      "metadata": {
        "id": "tkTROjhjd9Jn"
      },
      "source": [
        "from scipy import stats"
      ],
      "execution_count": null,
      "outputs": []
    },
    {
      "cell_type": "code",
      "metadata": {
        "id": "Tk1cuB_WfXMG"
      },
      "source": [
        "def advanced_describe():\n",
        "  stats_val=stats.describe(bk_data)\n",
        "  stat_fields = ['min','max','mean','var','skew','kurt']\n",
        "  stat_data = pd.DataFrame(stats_val[1], index=stat_fields[0:2], columns=bk_data.columns)\n",
        "  stat_data = stat_data.append(pd.DataFrame(stats_val[2::],index=stat_fields[2::], columns=bk_data.columns))\n",
        "  return stat_data"
      ],
      "execution_count": null,
      "outputs": []
    },
    {
      "cell_type": "code",
      "metadata": {
        "colab": {
          "base_uri": "https://localhost:8080/",
          "height": 228
        },
        "id": "HbWokYZMhjaA",
        "outputId": "04b879c7-5d73-4441-b50e-5f23565ded3f"
      },
      "source": [
        "advanced_describe()"
      ],
      "execution_count": null,
      "outputs": [
        {
          "output_type": "execute_result",
          "data": {
            "text/html": [
              "<div>\n",
              "<style scoped>\n",
              "    .dataframe tbody tr th:only-of-type {\n",
              "        vertical-align: middle;\n",
              "    }\n",
              "\n",
              "    .dataframe tbody tr th {\n",
              "        vertical-align: top;\n",
              "    }\n",
              "\n",
              "    .dataframe thead th {\n",
              "        text-align: right;\n",
              "    }\n",
              "</style>\n",
              "<table border=\"1\" class=\"dataframe\">\n",
              "  <thead>\n",
              "    <tr style=\"text-align: right;\">\n",
              "      <th></th>\n",
              "      <th>Plant-based burger</th>\n",
              "      <th>X-tra Long Chicken</th>\n",
              "      <th>Whopper®</th>\n",
              "      <th>Quarater Pound King™</th>\n",
              "    </tr>\n",
              "  </thead>\n",
              "  <tbody>\n",
              "    <tr>\n",
              "      <th>min</th>\n",
              "      <td>487.000000</td>\n",
              "      <td>1.321000e+03</td>\n",
              "      <td>2.100000e+02</td>\n",
              "      <td>3.100000e+01</td>\n",
              "    </tr>\n",
              "    <tr>\n",
              "      <th>max</th>\n",
              "      <td>2540.000000</td>\n",
              "      <td>3.654000e+03</td>\n",
              "      <td>3.697000e+03</td>\n",
              "      <td>4.570000e+03</td>\n",
              "    </tr>\n",
              "    <tr>\n",
              "      <th>mean</th>\n",
              "      <td>1079.000000</td>\n",
              "      <td>2.107750e+03</td>\n",
              "      <td>1.748000e+03</td>\n",
              "      <td>1.615250e+03</td>\n",
              "    </tr>\n",
              "    <tr>\n",
              "      <th>var</th>\n",
              "      <td>956392.666667</td>\n",
              "      <td>1.112682e+06</td>\n",
              "      <td>2.090975e+06</td>\n",
              "      <td>4.060570e+06</td>\n",
              "    </tr>\n",
              "    <tr>\n",
              "      <th>skew</th>\n",
              "      <td>1.126906</td>\n",
              "      <td>1.001885e+00</td>\n",
              "      <td>4.752080e-01</td>\n",
              "      <td>9.959477e-01</td>\n",
              "    </tr>\n",
              "    <tr>\n",
              "      <th>kurt</th>\n",
              "      <td>-0.688195</td>\n",
              "      <td>-7.828178e-01</td>\n",
              "      <td>-9.634103e-01</td>\n",
              "      <td>-7.635509e-01</td>\n",
              "    </tr>\n",
              "  </tbody>\n",
              "</table>\n",
              "</div>"
            ],
            "text/plain": [
              "      Plant-based burger  ...  Quarater Pound King™\n",
              "min           487.000000  ...          3.100000e+01\n",
              "max          2540.000000  ...          4.570000e+03\n",
              "mean         1079.000000  ...          1.615250e+03\n",
              "var        956392.666667  ...          4.060570e+06\n",
              "skew            1.126906  ...          9.959477e-01\n",
              "kurt           -0.688195  ...         -7.635509e-01\n",
              "\n",
              "[6 rows x 4 columns]"
            ]
          },
          "metadata": {
            "tags": []
          },
          "execution_count": 88
        }
      ]
    },
    {
      "cell_type": "markdown",
      "metadata": {
        "id": "lccD0PPClKyG"
      },
      "source": [
        "### Visual Analysis"
      ]
    },
    {
      "cell_type": "code",
      "metadata": {
        "id": "rV_iOiMVlNGO"
      },
      "source": [
        "import matplotlib.pyplot as plt\n",
        "import seaborn as sns"
      ],
      "execution_count": null,
      "outputs": []
    },
    {
      "cell_type": "code",
      "metadata": {
        "colab": {
          "base_uri": "https://localhost:8080/",
          "height": 318
        },
        "id": "XpmNaeQwlVXx",
        "outputId": "8809bc39-ea64-4818-8032-391b1f0787de"
      },
      "source": [
        "plt.figure(figsize=(20,7))\n",
        "plt.grid()\n",
        "sns.lineplot(data=bk_data)\n",
        "plt.ylabel('sales')\n",
        "plt.title('BK March 2021 Sales')\n",
        "plt.savefig(\"bk_chart.jpg\",dpi=480)\n",
        "plt.show()"
      ],
      "execution_count": null,
      "outputs": [
        {
          "output_type": "display_data",
          "data": {
            "image/png": "[encoded data removed]",
            "text/plain": [
              "<Figure size 1440x504 with 1 Axes>"
            ]
          },
          "metadata": {
            "tags": [],
            "needs_background": "light"
          }
        }
      ]
    },
    {
      "cell_type": "code",
      "metadata": {
        "id": "lqBqt5vapvww"
      },
      "source": [
        ""
      ],
      "execution_count": null,
      "outputs": []
    }
  ]
}